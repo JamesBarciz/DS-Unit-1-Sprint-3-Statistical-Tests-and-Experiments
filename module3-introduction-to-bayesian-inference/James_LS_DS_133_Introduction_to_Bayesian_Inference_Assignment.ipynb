{
  "nbformat": 4,
  "nbformat_minor": 0,
  "metadata": {
    "colab": {
      "name": "James Barciz - LS_DS_133_Introduction_to_Bayesian_Inference_Assignment.ipynb",
      "provenance": [],
      "include_colab_link": true
    },
    "kernelspec": {
      "name": "python3",
      "display_name": "Python 3"
    }
  },
  "cells": [
    {
      "cell_type": "markdown",
      "metadata": {
        "id": "view-in-github",
        "colab_type": "text"
      },
      "source": [
        "<a href=\"https://colab.research.google.com/github/JamesBarciz/DS-Unit-1-Sprint-3-Statistical-Tests-and-Experiments/blob/master/module3-introduction-to-bayesian-inference/James_LS_DS_133_Introduction_to_Bayesian_Inference_Assignment.ipynb\" target=\"_parent\"><img src=\"https://colab.research.google.com/assets/colab-badge.svg\" alt=\"Open In Colab\"/></a>"
      ]
    },
    {
      "cell_type": "markdown",
      "metadata": {
        "id": "H7OLbevlbd_Z",
        "colab_type": "text"
      },
      "source": [
        "# Lambda School Data Science Module 133\n",
        "\n",
        "## Introduction to Bayesian Inference\n",
        "\n",
        "\n"
      ]
    },
    {
      "cell_type": "markdown",
      "metadata": {
        "id": "P-DzzRk5bf0z",
        "colab_type": "text"
      },
      "source": [
        "## Assignment - Code it up!\n",
        "\n",
        "Most of the above was pure math - now write Python code to reproduce the results! This is purposefully open ended - you'll have to think about how you should represent probabilities and events. You can and should look things up, and as a stretch goal - refactor your code into helpful reusable functions!\n",
        "\n",
        "Specific goals/targets:\n",
        "\n",
        "1. Write a function `def prob_drunk_given_positive(prob_drunk_prior, prob_positive, prob_positive_drunk)` that reproduces the example from lecture, and use it to calculate and visualize a range of situations\n",
        "2. Explore `scipy.stats.bayes_mvs` - read its documentation, and experiment with it on data you've tested in other ways earlier this week\n",
        "3. Create a visualization comparing the results of a Bayesian approach to a traditional/frequentist approach\n",
        "4. In your own words, summarize the difference between Bayesian and Frequentist statistics\n",
        "\n",
        "If you're unsure where to start, check out [this blog post of Bayes theorem with Python](https://dataconomy.com/2015/02/introduction-to-bayes-theorem-with-python/) - you could and should create something similar!\n",
        "\n",
        "Stretch goals:\n",
        "\n",
        "- Apply a Bayesian technique to a problem you previously worked (in an assignment or project work) on from a frequentist (standard) perspective\n",
        "- Check out [PyMC3](https://docs.pymc.io/) (note this goes beyond hypothesis tests into modeling) - read the guides and work through some examples\n",
        "- Take PyMC3 further - see if you can build something with it!"
      ]
    },
    {
      "cell_type": "code",
      "metadata": {
        "id": "xpVhZyUnbf7o",
        "colab_type": "code",
        "colab": {}
      },
      "source": [
        "drunk_given_pos = ((pos_given_drunk) * drunk) / pos"
      ],
      "execution_count": 0,
      "outputs": []
    },
    {
      "cell_type": "code",
      "metadata": {
        "id": "HrDzlTWEHBHb",
        "colab_type": "code",
        "colab": {}
      },
      "source": [
        "import numpy as np\n",
        "from scipy import stats"
      ],
      "execution_count": 0,
      "outputs": []
    },
    {
      "cell_type": "code",
      "metadata": {
        "id": "B8xWhDMgHHnN",
        "colab_type": "code",
        "colab": {}
      },
      "source": [
        "def prob_drunk_given_positive(prob_drunk_prior, prob_positive, prob_positive_drunk):\n",
        "  return (prob_positive_drunk * prob_drunk_prior) / prob_positive"
      ],
      "execution_count": 0,
      "outputs": []
    },
    {
      "cell_type": "code",
      "metadata": {
        "id": "LtZA8C0LHHh9",
        "colab_type": "code",
        "outputId": "ba7cda3e-e083-4e3e-ba18-a53b9d8dc0d4",
        "colab": {
          "base_uri": "https://localhost:8080/",
          "height": 35
        }
      },
      "source": [
        "prob_drunk_given_positive(0.001, 0.08, 1)"
      ],
      "execution_count": 0,
      "outputs": [
        {
          "output_type": "execute_result",
          "data": {
            "text/plain": [
              "0.0125"
            ]
          },
          "metadata": {
            "tags": []
          },
          "execution_count": 5
        }
      ]
    },
    {
      "cell_type": "code",
      "metadata": {
        "id": "9-KQOjymHHfd",
        "colab_type": "code",
        "colab": {}
      },
      "source": [
        "def drunk_given_pos(drunk_prior, positive, positive_drunk, num_iter):\n",
        "  posterior_list = []\n",
        "  for i in range(num_iter):\n",
        "    posterior = (positive_drunk * drunk_prior) / positive\n",
        "    if i == 0:\n",
        "      posterior_list.append(posterior)\n",
        "    else:\n",
        "      posterior_list.append(((positive_drunk * posterior) / positive))\n",
        "  return posterior_list"
      ],
      "execution_count": 0,
      "outputs": []
    },
    {
      "cell_type": "code",
      "metadata": {
        "id": "F0m3JhhZHHck",
        "colab_type": "code",
        "outputId": "276c4a6b-6a96-4123-daa0-21502409e4fe",
        "colab": {
          "base_uri": "https://localhost:8080/",
          "height": 35
        }
      },
      "source": [
        "drunk_given_pos(0.001, 0.08, 1, 3)"
      ],
      "execution_count": 0,
      "outputs": [
        {
          "output_type": "execute_result",
          "data": {
            "text/plain": [
              "[0.0125, 0.15625, 0.15625]"
            ]
          },
          "metadata": {
            "tags": []
          },
          "execution_count": 85
        }
      ]
    },
    {
      "cell_type": "markdown",
      "metadata": {
        "id": "uWgWjp3PQ3Sq",
        "colab_type": "text"
      },
      "source": [
        "## Resources"
      ]
    },
    {
      "cell_type": "markdown",
      "metadata": {
        "id": "QRgHqmYIQ9qn",
        "colab_type": "text"
      },
      "source": [
        "- [Worked example of Bayes rule calculation](https://en.wikipedia.org/wiki/Bayes'_theorem#Examples) (helpful as it fully breaks out the denominator)\n",
        "- [Source code for mvsdist in scipy](https://github.com/scipy/scipy/blob/90534919e139d2a81c24bf08341734ff41a3db12/scipy/stats/morestats.py#L139)"
      ]
    }
  ]
}